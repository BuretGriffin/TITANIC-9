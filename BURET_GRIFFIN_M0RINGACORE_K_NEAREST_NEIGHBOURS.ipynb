{
  "nbformat": 4,
  "nbformat_minor": 0,
  "metadata": {
    "colab": {
      "name": "BURET GRIFFIN_M0RINGACORE_K NEAREST NEIGHBOURS.ipynb",
      "provenance": [],
      "authorship_tag": "ABX9TyMXOdE84xZaqxTH/pGRHaz7",
      "include_colab_link": true
    },
    "kernelspec": {
      "name": "python3",
      "display_name": "Python 3"
    },
    "language_info": {
      "name": "python"
    }
  },
  "cells": [
    {
      "cell_type": "markdown",
      "metadata": {
        "id": "view-in-github",
        "colab_type": "text"
      },
      "source": [
        "<a href=\"https://colab.research.google.com/github/BuretGriffin/WEEK9-MORINGA-CORE-BURET-GRIFFIN/blob/main/BURET_GRIFFIN_M0RINGACORE_K_NEAREST_NEIGHBOURS.ipynb\" target=\"_parent\"><img src=\"https://colab.research.google.com/assets/colab-badge.svg\" alt=\"Open In Colab\"/></a>"
      ]
    },
    {
      "cell_type": "code",
      "execution_count": null,
      "metadata": {
        "id": "bhtKFo8ExYu1"
      },
      "outputs": [],
      "source": [
        ""
      ]
    }
  ]
}